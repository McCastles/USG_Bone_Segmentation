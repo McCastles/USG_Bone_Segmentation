{
  "nbformat": 4,
  "nbformat_minor": 0,
  "metadata": {
    "colab": {
      "name": "Postprocessor.ipynb",
      "provenance": [],
      "collapsed_sections": [
        "L-34vcG8Ym2_",
        "EX61aV89AewW",
        "obWQfxrx9VaK"
      ],
      "toc_visible": true
    },
    "kernelspec": {
      "name": "python3",
      "display_name": "Python 3"
    },
    "language_info": {
      "name": "python"
    }
  },
  "cells": [
    {
      "cell_type": "markdown",
      "source": [
        "# Technical Stuff"
      ],
      "metadata": {
        "id": "lGEbiidnD_m2"
      }
    },
    {
      "cell_type": "markdown",
      "source": [
        "#### Packages Import"
      ],
      "metadata": {
        "id": "xbc5IIjaD3nY"
      }
    },
    {
      "cell_type": "code",
      "execution_count": 13,
      "metadata": {
        "id": "jKmIlA2RDbGv"
      },
      "outputs": [],
      "source": [
        "import numpy as np\n",
        "from typing import List\n",
        "from tqdm import tqdm\n",
        "\n",
        "import cv2\n",
        "from PIL import Image\n",
        "import matplotlib.pyplot as plt\n",
        "import matplotlib\n",
        "from skimage import measure, filters, morphology\n",
        "import scipy.cluster.hierarchy as hcluster\n",
        "\n",
        "import warnings\n",
        "warnings.filterwarnings('ignore')"
      ]
    },
    {
      "cell_type": "markdown",
      "source": [
        "#### Contours Operations"
      ],
      "metadata": {
        "id": "lyZYA7iQ0NZ1"
      }
    },
    {
      "cell_type": "code",
      "source": [
        "\"\"\" Binary Image + cv2.Contour -> Image on the Screen. \"\"\"\n",
        "def show_contours( contours, img ):\n",
        "    fig, ax = plt.subplots(figsize=(20, 10), dpi=120)\n",
        "    ax.imshow(img, cmap=plt.cm.gray)\n",
        "    for c in contours:\n",
        "        if len(contours) > 1:\n",
        "            ax.plot(c[:, 1], c[:, 0], linewidth=2)\n",
        "        else:\n",
        "            ax.plot(c[:, 1], c[:, 0], linewidth=2, color='red')\n",
        "    ax.grid(False)"
      ],
      "metadata": {
        "id": "auOnyycqWcbb"
      },
      "execution_count": 14,
      "outputs": []
    },
    {
      "cell_type": "code",
      "source": [
        "\"\"\" Extract the upper rim of the chosen contour. \"\"\"\n",
        "def contour2rim( target_contour ):\n",
        "    d = {}\n",
        "    for yx in target_contour:\n",
        "        y, x = int(yx[0]), int(yx[1])\n",
        "        if d.get(x) == None:\n",
        "            d[x] = []\n",
        "        d[x].append(y)\n",
        "    for k,v in d.items():\n",
        "        d[k] = min(v)\n",
        "    rim = np.array([list(d.values()), list(d.keys())]).astype(int).T\n",
        "    return rim"
      ],
      "metadata": {
        "id": "aNj3WDvLWheF"
      },
      "execution_count": 15,
      "outputs": []
    },
    {
      "cell_type": "code",
      "source": [
        "\"\"\" Draw the final mask. \"\"\"\n",
        "def rim2mask( bin, rim, HEIGHT=4 ):\n",
        "    mask = np.zeros_like(bin)\n",
        "    for i in rim:\n",
        "        for j in range(HEIGHT):\n",
        "            mask[i[0]-j, i[1]] = 1\n",
        "    return mask"
      ],
      "metadata": {
        "id": "DoBfInVIXlkA"
      },
      "execution_count": 16,
      "outputs": []
    },
    {
      "cell_type": "markdown",
      "source": [
        "#### Choose Frame"
      ],
      "metadata": {
        "id": "wn-jAp6p1m2e"
      }
    },
    {
      "cell_type": "code",
      "source": [
        "\"\"\" Pick one shape from the ones on the image. \"\"\"\n",
        "def the_chosen_shape(bin):\n",
        "    app, cs, areas = create_contours(bin)\n",
        "    lowest_contour = sorted(cs, key=lambda c: np.mean(c[:,0]))[-1]\n",
        "    return lowest_contour"
      ],
      "metadata": {
        "id": "moykYbEAmfBw"
      },
      "execution_count": 17,
      "outputs": []
    },
    {
      "cell_type": "code",
      "source": [
        "\"\"\" Check if the two shapes on a binary image are\n",
        "on top of each other (True) or side by side (False). \"\"\"\n",
        "def good_separation(app, contours):\n",
        "\n",
        "    j = 0\n",
        "    old = (1.0 in app[:, j])\n",
        "    hitpoint = True\n",
        "    while j<app.shape[1]-1:\n",
        "        j += 1\n",
        "        new = (1.0 in app[:, j])\n",
        "        if (old==True) and (new!=True):\n",
        "            if hitpoint == True:\n",
        "                hitpoint = False\n",
        "            else:\n",
        "                return False\n",
        "        old = new\n",
        "    return True"
      ],
      "metadata": {
        "id": "EnpGfklXvyQU"
      },
      "execution_count": 18,
      "outputs": []
    },
    {
      "cell_type": "code",
      "source": [
        "\"\"\" Binary Image -> Mask or None. \"\"\"\n",
        "def postprocessor(bin, mask_height=4, display=False):\n",
        "\n",
        "    \"\"\" Clean and create good contours. \"\"\"\n",
        "    try:\n",
        "        app, contours, areas = create_contours( bin )\n",
        "    except:\n",
        "        return None\n",
        "\n",
        "    num_shapes = len(contours)\n",
        "\n",
        "    \"\"\" Determine the case. \"\"\"\n",
        "    chosen_contour = None\n",
        "    if num_shapes == 1:\n",
        "        app = lightsaber( app )\n",
        "    elif num_shapes == 2:\n",
        "        if good_separation(app, contours) == True:\n",
        "            pass\n",
        "        else:\n",
        "            app = lightsaber( app )\n",
        "            app = bridge( app, contours )\n",
        "    elif num_shapes == 3:\n",
        "        pass\n",
        "    elif num_shapes == 4:\n",
        "        app = bridge( app, contours )\n",
        "    else:\n",
        "        return None\n",
        "    chosen_contour = the_chosen_shape(app)\n",
        "\n",
        "    \"\"\" The assumption is that the structure __never__ appears in the upper half of the image. \"\"\"\n",
        "    if np.mean(chosen_contour[:,0]) < bin.shape[0]//2:\n",
        "        return None\n",
        "    \n",
        "\n",
        "    \"\"\" Create the mask. \"\"\"\n",
        "    rim = contour2rim( chosen_contour )\n",
        "    mask = rim2mask( app, rim, mask_height )\n",
        "\n",
        "\n",
        "    if display:\n",
        "        canvas = overlap( app, mask )\n",
        "        canvas = np.transpose(canvas, (1,0,2))\n",
        "        with plt.style.context('dark_background'):\n",
        "            fig, (ax1, ax2, ax3) = plt.subplots(1, 3, figsize=(15, 10), dpi=130)\n",
        "            \n",
        "            ax1.imshow(bin, cmap=plt.cm.gray)\n",
        "            ax1.title.set_text(f'{num_shapes}')\n",
        "            # [ax1.plot(contour[:, 1], contour[:, 0], linewidth=2, c=['crimson', 'cyan', 'orange', 'lightgreen'][i%4]) for i, contour in enumerate(contours)]\n",
        "            \n",
        "            ax2.imshow(app, cmap=plt.cm.gray)\n",
        "            if type(chosen_contour) == np.ndarray:\n",
        "                ax2.plot(chosen_contour[:, 1], chosen_contour[:, 0], linewidth=2, c='lightgreen')\n",
        "\n",
        "            ax3.imshow(canvas, cmap='viridis')\n",
        "\n",
        "    return mask"
      ],
      "metadata": {
        "id": "foc_yQNnYmXb"
      },
      "execution_count": 19,
      "outputs": []
    },
    {
      "cell_type": "markdown",
      "source": [
        "### Cleaning"
      ],
      "metadata": {
        "id": "L-34vcG8Ym2_"
      }
    },
    {
      "cell_type": "code",
      "source": [
        "def create_contours(bin, display=False, RATIO_TH=9):\n",
        "\n",
        "\n",
        "    \"\"\" Padding. \"\"\"\n",
        "    bin[:,:3] = 0.0\n",
        "    bin[:,-3:] = 0.0\n",
        "\n",
        "    \"\"\" Finding all contours. \"\"\"\n",
        "    contours = []\n",
        "    areas = []\n",
        "    for contour in measure.find_contours( bin ):\n",
        "        c = np.expand_dims(contour.astype(np.float32), 1)\n",
        "        c = cv2.UMat(c)\n",
        "        area = cv2.contourArea(c)\n",
        "        contours.append(contour)\n",
        "        areas.append(area)\n",
        "\n",
        "    \"\"\" If the image is empty. \"\"\"\n",
        "    if len(contours) == 0:\n",
        "        return bin, [], []\n",
        "\n",
        "    maximum = max(areas)\n",
        "    if maximum < 500:\n",
        "        bin = morphology.remove_small_objects(bin.astype('bool'), min_size=(maximum+1)).astype('float')\n",
        "        return bin, [], []\n",
        "\n",
        "    \"\"\" Finding good contours. \"\"\"\n",
        "    good_contours = []\n",
        "    good_areas = []\n",
        "    bad_areas = []\n",
        "\n",
        "    for c, a in zip(contours, areas):\n",
        "        if (maximum / a) < RATIO_TH:\n",
        "            good_contours.append(c)\n",
        "            good_areas.append(a)\n",
        "        else:\n",
        "            bad_areas.append(a)\n",
        "\n",
        "    \"\"\" Removing small objects. \"\"\"\n",
        "    if len(bad_areas) > 0:\n",
        "        TH = max(bad_areas)+1\n",
        "        bin = morphology.remove_small_objects(bin.astype('bool'), min_size=TH).astype('float')\n",
        "        bin = morphology.remove_small_holes(bin.astype('bool'), area_threshold=TH).astype('float')\n",
        "        \n",
        "\n",
        "    if display:\n",
        "        show_contours(good_contours, good_areas)\n",
        "\n",
        "    return bin, good_contours, good_areas"
      ],
      "metadata": {
        "id": "yvnRJU8R7lZN"
      },
      "execution_count": 20,
      "outputs": []
    },
    {
      "cell_type": "markdown",
      "source": [
        "### The Bridge"
      ],
      "metadata": {
        "id": "EX61aV89AewW"
      }
    },
    {
      "cell_type": "code",
      "source": [
        "def bridge(\n",
        "               bin,                             # Binary image\n",
        "               contours,                        # Shapes contours\n",
        "               METHOD       = 'cv2.TM_CCOEFF',  # MatchTemplate method\n",
        "               THRESH       = 1.5,              # Clustering proximity\n",
        "               KP_NUMBER    = 150,              # Number of keypoints to find \n",
        "               REACH        = 15,               # How far the bridge swings on \"land\"\n",
        "               BRIDGE_WIDTH = 3,                # Bridge's \"width\"\n",
        "               v            = False,            # Verbosity\n",
        "               display      = False             # Draw pictures\n",
        "              ):\n",
        "\n",
        "    app = bin.copy()\n",
        "\n",
        "    templates = []\n",
        "    for fn in ['tmp11.jpg']:\n",
        "        img = Image.open( f'/content/drive/MyDrive/Projects/Thesis/Data/{fn}' )\n",
        "        img.load()\n",
        "        img = np.array(img)\n",
        "        img[img < 128] = 0.0\n",
        "        img[img > 128] = 1.0\n",
        "        templates.append((img, np.fliplr(img)))\n",
        "    plt_offset = templates[0][0].shape[0]//2\n",
        "\n",
        "\n",
        "    \"\"\" Keypoints. \"\"\"\n",
        "    kp_total = np.array([0, 0])\n",
        "    for template in templates:\n",
        "        tmp1, tmp2 = template\n",
        "        res_left = cv2.matchTemplate( app.astype(np.uint8), tmp1.astype(np.uint8), eval(METHOD) )\n",
        "        res_right = cv2.matchTemplate( app.astype(np.uint8), tmp2.astype(np.uint8), eval(METHOD) )\n",
        "        left_kp = top_keypoints(res_left, KP_NUMBER)\n",
        "        right_kp = top_keypoints(res_right, KP_NUMBER)\n",
        "        new_kp = np.vstack((left_kp, right_kp))\n",
        "        kp_total = np.vstack( (kp_total, new_kp) )\n",
        "    keypoints = kp_total[1:, :]\n",
        "\n",
        "    \"\"\" Clusters. \"\"\"\n",
        "    clusters = hcluster.fclusterdata(keypoints, THRESH, criterion=\"distance\")\n",
        "    centroids = []\n",
        "    for cli in np.unique(clusters):\n",
        "        cluster = keypoints[clusters == cli]\n",
        "        centroid = (cluster[:,0].mean(), cluster[:,1].mean())\n",
        "        centroids.append(centroid)\n",
        "    centroids = np.array(centroids)\n",
        "\n",
        "    meanline = 0\n",
        "    for contour in contours:\n",
        "        meanline += np.mean(np.unique(contour[:,1]))\n",
        "    meanline /= len(contours)\n",
        "\n",
        "    radius = 2 * np.min([abs(c[1]-meanline) for c in centroids])\n",
        "    radius = max(radius, 50)\n",
        "\n",
        "    good_centroids = np.array([c for c in centroids if abs(c[1]-meanline) <= radius])\n",
        "    if len(good_centroids) < 2:\n",
        "        if v:\n",
        "            print('Nothing to connect. Abandon.')\n",
        "        return bin\n",
        "    good_centroids = np.array(sorted(good_centroids, key=lambda yx: yx[0]))\n",
        "    RPs = good_centroids[-2:]\n",
        "\n",
        "    start, finish = sorted(RPs, key=lambda yx: yx[1])\n",
        "    xbridge = range(int(start[1]), int(finish[1]))\n",
        "    ybridge = [start[0] for x in xbridge]\n",
        "\n",
        "\n",
        "    for xi, yi in zip(xbridge, ybridge):\n",
        "        app[int(yi-BRIDGE_WIDTH):int(yi+BRIDGE_WIDTH+1)+plt_offset, int(xi)+plt_offset] = 1.0\n",
        "\n",
        "\n",
        "    if display:\n",
        "        with plt.style.context('dark_background'):\n",
        "\n",
        "            fig, (ax1, ax2, ax3) = plt.subplots(1, 3, figsize=(17, 17), dpi=120)\n",
        "            ax1.imshow( bin, cmap='gray' )\n",
        "\n",
        "            \"\"\" The process. \"\"\"\n",
        "            ax2.imshow(app, cmap='gray') # Shape\n",
        "            ax2.scatter(centroids[:,1]+plt_offset, centroids[:,0]+plt_offset, c='red')\n",
        "            ax2.scatter(good_centroids[:,1]+plt_offset, good_centroids[:,0]+plt_offset, c='lightgreen')\n",
        "            ax2.scatter(RPs[:,1]+plt_offset, RPs[:,0]+plt_offset, c='purple', s=100)\n",
        "\n",
        "            HEIGHT = bin.shape[0]\n",
        "            ax2.plot( [meanline+plt_offset for _ in range(HEIGHT)], [y+plt_offset for y in range(HEIGHT)], c='lightgreen' )\n",
        "            ax2.plot( [meanline+plt_offset-radius for _ in range(HEIGHT)], [y+plt_offset for y in range(HEIGHT)], c='green' )\n",
        "            ax2.plot( [meanline+plt_offset+radius for _ in range(HEIGHT)], [y+plt_offset for y in range(HEIGHT)], c='green' )\n",
        "\n",
        "            \"\"\" The result. \"\"\"\n",
        "            ax3.imshow(app, cmap='gray') # Shape\n",
        "\n",
        "    return app"
      ],
      "metadata": {
        "id": "hIGz9XRCAfOw"
      },
      "execution_count": 21,
      "outputs": []
    },
    {
      "cell_type": "markdown",
      "source": [
        "### The Lightsaber"
      ],
      "metadata": {
        "id": "obWQfxrx9VaK"
      }
    },
    {
      "cell_type": "code",
      "source": [
        "def top_keypoints( img, KP_NUMBER ):\n",
        "    app = img.copy()\n",
        "    result = np.zeros((KP_NUMBER, 2))\n",
        "    for i in range(KP_NUMBER):\n",
        "        xy = np.where( app == np.max(app) )\n",
        "        x = xy[0][0]\n",
        "        y = xy[1][0]\n",
        "        app[x, y] = 0.0\n",
        "        result[i][0] = x\n",
        "        result[i][1] = y\n",
        "    return result\n",
        "\n",
        "\n",
        "def estimate_keypoint(iyx, app, XRANGE, YRANGE, plt_offset, mod=1.5, looking_for='left'):\n",
        "    i = int(iyx[0]); y = int(iyx[1])+plt_offset; x = int(iyx[2])+plt_offset;\n",
        "    total = 0\n",
        "    total += np.sum(app[y-YRANGE:y, x])\n",
        "    total += np.sum(app[y:y+YRANGE, x])\n",
        "    if looking_for=='left':\n",
        "        total -= mod*np.sum(app[y, x-XRANGE:x])\n",
        "        total += mod*np.sum(app[y, x:x+XRANGE])\n",
        "    elif looking_for=='right':\n",
        "        total += mod*np.sum(app[y, x-XRANGE:x])\n",
        "        total -= mod*np.sum(app[y, x:x+XRANGE])\n",
        "    return total"
      ],
      "metadata": {
        "id": "oRjIg_-ikfG4"
      },
      "execution_count": 22,
      "outputs": []
    },
    {
      "cell_type": "code",
      "source": [
        "def lightsaber(\n",
        "               bin,                             # Binary image\n",
        "               METHOD       = 'cv2.TM_CCOEFF',  # MatchTemplate method\n",
        "               THRESH       = 1.5,              # Clustering proximity\n",
        "               KP_NUMBER    = 150,              # Number of keypoints to find \n",
        "               YRANGE       = 30,               # Parameter for the competition\n",
        "               XRANGE       = 15,               # Parameter for the competition\n",
        "               REACH        = 10,               # How far the saber swings \n",
        "               LAZER_RADIUS = 2,                # Saber's width\n",
        "               v            = False,            # Verbosity\n",
        "               display      = False             # Draw pictures\n",
        "              ):\n",
        "\n",
        "    app = bin.copy()\n",
        "\n",
        "    templates = []\n",
        "    for fn in ['tmp10.jpg']:\n",
        "        img = Image.open( f'/content/drive/MyDrive/Projects/Thesis/Data/{fn}' )\n",
        "        img.load()\n",
        "        img = np.array(img)\n",
        "        img[img < 128] = 0.0\n",
        "        img[img > 128] = 1.0\n",
        "        templates.append((img, np.fliplr(img)))\n",
        "    plt_offset = templates[0][0].shape[0]//2\n",
        "\n",
        "\n",
        "    kp_total = np.array([0, 0])\n",
        "    for template in templates:\n",
        "        tmp1, tmp2 = template\n",
        "        res_left = cv2.matchTemplate( app.astype(np.uint8), tmp1.astype(np.uint8), eval(METHOD) )\n",
        "        res_right = cv2.matchTemplate( app.astype(np.uint8), tmp2.astype(np.uint8), eval(METHOD) )\n",
        "        left_kp = top_keypoints(res_left, KP_NUMBER)\n",
        "        right_kp = top_keypoints(res_right, KP_NUMBER)\n",
        "        new_kp = np.vstack((left_kp, right_kp))\n",
        "        kp_total = np.vstack( (kp_total, new_kp) )\n",
        "    kp_total = kp_total[1:, :]\n",
        "\n",
        "\n",
        "    \"\"\" Filtering. \"\"\"\n",
        "    tmp = []\n",
        "    for yx in kp_total:\n",
        "        y = int(yx[0])\n",
        "        x = int(yx[1])\n",
        "        cond = (sum(app[y-YRANGE:y, x]) >= YRANGE//2) and (sum(app[y:y+YRANGE, x]) >= YRANGE//2)\n",
        "        if cond:\n",
        "            tmp.append(yx)\n",
        "    keypoints = np.array(tmp)\n",
        "\n",
        "    if len(keypoints) < 2:\n",
        "        if v:\n",
        "            print('Nothing to cut. Abandon.')\n",
        "        return bin\n",
        "\n",
        "    \"\"\" Clustering & Centroids. \"\"\"\n",
        "    clusters = hcluster.fclusterdata(keypoints, THRESH, criterion=\"distance\")\n",
        "    centroids = []\n",
        "    for cli in np.unique(clusters):\n",
        "        cluster = keypoints[clusters == cli]\n",
        "        centroid = (cluster[:,0].mean(), cluster[:,1].mean())\n",
        "        centroids.append(centroid)\n",
        "    centroids = np.array(centroids)\n",
        "\n",
        "    \"\"\" Competitions. \"\"\"\n",
        "    RPs = []\n",
        "    iyxs = np.array([(i, c[0], c[1]) for i, c in enumerate(centroids)])\n",
        "    for side in ['left', 'right']:\n",
        "        ranking = []\n",
        "        for iyx in iyxs:\n",
        "            score = estimate_keypoint(iyx, app, XRANGE, YRANGE, plt_offset, looking_for=side)\n",
        "            ranking.append((iyx, score))\n",
        "        ranking = sorted(ranking, key=lambda iyxscore: iyxscore[-1], reverse=True )\n",
        "        RPs.append(ranking[0][0])\n",
        "\n",
        "        if v:\n",
        "            print(f'Competition: {side}')\n",
        "            for place, (iyx, score) in enumerate(ranking, 1):\n",
        "                print( f'{place}.\\t{iyx[0]}\\t{score} pts.' )\n",
        "\n",
        "    RP_LEFT, RP_RIGHT = RPs\n",
        "    if v:\n",
        "        print(f'Reference point LEFT: {RP_LEFT[0]}')\n",
        "        print(f'Reference point RIGHT: {RP_RIGHT[0]}')\n",
        "\n",
        "\n",
        "    \"\"\" Lightsaber in action. \"\"\"\n",
        "    rxs = [RP_LEFT[2]-REACH, RP_RIGHT[2]+REACH]\n",
        "    rys = [RP_LEFT[1], RP_RIGHT[1]]\n",
        "    theta = np.polyfit(rxs, rys, deg=1)\n",
        "    line = np.poly1d(theta)\n",
        "    xsaber = np.array( range(*[int(i) for i in sorted(rxs)]) )\n",
        "    ysaber = np.array( [line(x) for x in xsaber] )\n",
        "    for xi, yi in zip(xsaber, ysaber):\n",
        "        app[int(yi-LAZER_RADIUS):int(yi+LAZER_RADIUS+1)+1*plt_offset, int(xi)+plt_offset] = 0.0\n",
        "\n",
        "\n",
        "    if display:\n",
        "        with plt.style.context('dark_background'):\n",
        "\n",
        "            fig, (ax1, ax2, ax3) = plt.subplots(1, 3, figsize=(17, 17), dpi=120)\n",
        "            ax1.imshow( bin, cmap='gray' )\n",
        "\n",
        "            \"\"\" The process. \"\"\"\n",
        "            ax2.imshow(bin, cmap='gray') # Shape\n",
        "\n",
        "            \"\"\" Centroids. \"\"\"\n",
        "            centroids_colors = [['orange', 'gray', 'lightgreen', 'cyan', 'yellow'][(i-1)%5] for i in range(len(centroids))]\n",
        "            ax2.scatter( centroids[:,1]+plt_offset, centroids[:,0]+plt_offset, c=centroids_colors, s=50 ) \n",
        "            for iyx in iyxs:\n",
        "                ax2.text(x=iyx[2]+plt_offset//2, y=iyx[1]-5, s=str(iyx[0]), c='red')\n",
        "            ax2.scatter( RP_LEFT[2]+plt_offset, RP_LEFT[1]+plt_offset, c='pink', s=100 )\n",
        "            ax2.scatter( RP_RIGHT[2]+plt_offset, RP_RIGHT[1]+plt_offset, c='purple', s=100 )\n",
        "            ax2.plot( xsaber+plt_offset, ysaber+plt_offset, c='red' )\n",
        "\n",
        "            \"\"\" The result. \"\"\"\n",
        "            ax3.imshow(app, cmap='gray') \n",
        "\n",
        "    return app"
      ],
      "metadata": {
        "id": "nkiTdnGSLMpx"
      },
      "execution_count": 23,
      "outputs": []
    },
    {
      "cell_type": "markdown",
      "source": [
        "# The Results"
      ],
      "metadata": {
        "id": "U0Ymn4GKImoL"
      }
    },
    {
      "cell_type": "code",
      "source": [
        "# iii = 0\n",
        "# for i, bin in tqdm(enumerate(binimgs)):\n",
        "#     if i < iii:\n",
        "#         continue\n",
        "#     postprocessor(bin, mask_height=6)\n",
        "#     # break"
      ],
      "metadata": {
        "id": "CTMx7GApIn3u"
      },
      "execution_count": 24,
      "outputs": []
    }
  ]
}