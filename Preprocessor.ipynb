{
  "nbformat": 4,
  "nbformat_minor": 0,
  "metadata": {
    "colab": {
      "name": "Preprocessor.ipynb",
      "provenance": [],
      "collapsed_sections": []
    },
    "kernelspec": {
      "name": "python3",
      "display_name": "Python 3"
    },
    "language_info": {
      "name": "python"
    }
  },
  "cells": [
    {
      "cell_type": "markdown",
      "source": [
        "This Notebook contains the main Processor pipeline: normalization of the image, filtering and binarization. It is meant to be imported and used in other notebooks."
      ],
      "metadata": {
        "id": "VpUgvL4wseaN"
      }
    },
    {
      "cell_type": "markdown",
      "source": [
        "# Technical Stuff"
      ],
      "metadata": {
        "id": "F-nismvOsoQA"
      }
    },
    {
      "cell_type": "markdown",
      "source": [
        "#### Packages Imports"
      ],
      "metadata": {
        "id": "rkmHPE8F-hd3"
      }
    },
    {
      "cell_type": "code",
      "source": [
        "import os\n",
        "import itertools\n",
        "import random\n",
        "import h5py\n",
        "import numpy as np\n",
        "import pandas as pd\n",
        "from tqdm import tqdm\n",
        "from typing import List\n",
        "from math import log10, sqrt\n",
        "\n",
        "import cv2\n",
        "from PIL import Image\n",
        "import matplotlib.pyplot as plt\n",
        "import matplotlib\n",
        "\n",
        "import skimage.morphology as morph\n",
        "import skimage.filters as filters\n",
        "import skimage.feature as feature\n",
        "import skimage.restoration as restoration\n",
        "import skimage.exposure as exposure\n",
        "\n",
        "# https://docs.scipy.org/doc/scipy/reference/generated/scipy.signal.wiener.html#id1\n",
        "from scipy.signal import wiener\n",
        "# import scipy\n",
        "# scipy.special.seterr(all='ignore')\n",
        "# wiener = scipy.signal.wiener"
      ],
      "metadata": {
        "id": "FI3mudy1XQv7"
      },
      "execution_count": null,
      "outputs": []
    },
    {
      "cell_type": "markdown",
      "source": [
        "# The Preprocessor Pipeline"
      ],
      "metadata": {
        "id": "v4U6M3nTYXsr"
      }
    },
    {
      "cell_type": "markdown",
      "source": [
        "#### PSNR"
      ],
      "metadata": {
        "id": "c_0IRfkfkP6K"
      }
    },
    {
      "cell_type": "code",
      "source": [
        "\"\"\" Calculate Peak Signal-to-Noise Ratio. \"\"\"\n",
        "def PSNR(original, compressed, LH=True):\n",
        "    if LH:\n",
        "        lower_half = lambda img: img[img.shape[0]//2-50:, :]\n",
        "        mse = np.mean((lower_half(original) - lower_half(compressed)) ** 2)\n",
        "    else:\n",
        "        mse = np.mean((original - compressed) ** 2)\n",
        "    if(mse == 0):\n",
        "        return 100\n",
        "    max_pixel = 1.0\n",
        "    psnr = 20 * log10(max_pixel / sqrt(mse))\n",
        "    return round(psnr, 2)"
      ],
      "metadata": {
        "id": "J6TiAoDVkQMT"
      },
      "execution_count": null,
      "outputs": []
    },
    {
      "cell_type": "markdown",
      "source": [
        "#### Existing Ensembles"
      ],
      "metadata": {
        "id": "uz8fUcrvalMY"
      }
    },
    {
      "cell_type": "code",
      "source": [
        "def choose_ensemble( paramset ):\n",
        "\n",
        "    ei = paramset['ENSEMBLE_ID']\n",
        "\n",
        "    if ei == 0:\n",
        "        return {\n",
        "            f'Wiener Filter': lambda img: wiener(img, (2*paramset['WIENER_SIZE'], paramset['WIENER_SIZE'])),\n",
        "            f'TV Chambolle Filter': lambda img: restoration.denoise_tv_chambolle(img, weight=paramset['TV_WEIGHT']), }\n",
        "    \n",
        "    elif ei == 1:\n",
        "        return {\n",
        "            f'Wiener Filter': lambda img: wiener(img, (2*paramset['WIENER_SIZE'], paramset['WIENER_SIZE'])),\n",
        "            f'Median Filter, disk = {paramset[\"MEDIAN_DISK_SIZE\"]}': lambda i: filters.median(i, morph.disk(paramset[\"MEDIAN_DISK_SIZE\"])), }\n",
        "\n",
        "    elif ei == 2:\n",
        "        return {\n",
        "            f'Wavelet Filter': lambda img: restoration.denoise_wavelet( img, wavelet=paramset['WAVELET_TYPE'], rescale_sigma=True ),\n",
        "            f'TV Chambolle Filter': lambda img: restoration.denoise_tv_chambolle(img, weight=paramset['TV_WEIGHT'] ), }\n",
        "\n",
        "    elif ei == 3:\n",
        "        return {\n",
        "            f'Wavelet Filter': lambda img: restoration.denoise_wavelet( img, wavelet=paramset['WAVELET_TYPE'], rescale_sigma=True ),\n",
        "            f'Median Filter, disk = {paramset[\"MEDIAN_DISK_SIZE\"]}': lambda i: filters.median(i, morph.disk(paramset[\"MEDIAN_DISK_SIZE\"])), }\n"
      ],
      "metadata": {
        "id": "i8Szlns6YX35"
      },
      "execution_count": null,
      "outputs": []
    },
    {
      "cell_type": "markdown",
      "source": [
        "#### Normalization Stage"
      ],
      "metadata": {
        "id": "vSUuCJ9uaTQs"
      }
    },
    {
      "cell_type": "code",
      "source": [
        "\"\"\" Remove small artifacts on the bottom. \"\"\"\n",
        "def cut_artifacts( img ):\n",
        "\n",
        "    i = img.shape[0] - 1\n",
        "    row = img[i, :]\n",
        "    th = row.max()//2\n",
        "    img[i, row > th] = row.min()\n",
        "\n",
        "    for _ in range(10):\n",
        "        i -= 1\n",
        "        row = img[i, :]\n",
        "        img[i, row > th] = row.min()\n",
        "\n",
        "    return img"
      ],
      "metadata": {
        "id": "W4q76Cq1Z8ft"
      },
      "execution_count": null,
      "outputs": []
    },
    {
      "cell_type": "code",
      "source": [
        "\"\"\" Tilts the image so that the bottom half is brighter,\n",
        "and the top one is darker. \"\"\"\n",
        "def tilt_image( img, amp=1.0, bottom='brighter' ):\n",
        "\n",
        "    if amp==0:\n",
        "        return img\n",
        "\n",
        "    # Flip if needed\n",
        "    if bottom == 'darker':\n",
        "        img = np.flip(img)\n",
        "\n",
        "    # Skew coefficients\n",
        "    coeffs = np.linspace( -amp, amp, img.shape[0] )\n",
        "\n",
        "    # Application\n",
        "    skew = lambda pv, n: pv + n*(1-pv)*pv\n",
        "    columns = [skew( pv=img[:,col], n=coeffs ) for col in range(img.shape[1])]\n",
        "    app = np.stack( columns ).T\n",
        "\n",
        "    # Normalization\n",
        "    app = (app - app.min()) / (app.max() - app.min())\n",
        "\n",
        "    # Flip back if needed\n",
        "    if bottom == 'darker':\n",
        "        app = np.flip(app)\n",
        "\n",
        "    return app"
      ],
      "metadata": {
        "id": "rmgGdRABZ-GA"
      },
      "execution_count": null,
      "outputs": []
    },
    {
      "cell_type": "markdown",
      "source": [
        "#### Binarization Stage"
      ],
      "metadata": {
        "id": "-EzplP2raXcX"
      }
    },
    {
      "cell_type": "code",
      "source": [
        "\"\"\" Remove all pixels from the upper half of the image. \"\"\"\n",
        "def remove_upper_half(img, offset=40):\n",
        "    img[:img.shape[0]//2-offset, :] = 0.0\n",
        "    return img"
      ],
      "metadata": {
        "id": "08KYBL6DaFq4"
      },
      "execution_count": null,
      "outputs": []
    },
    {
      "cell_type": "code",
      "source": [
        "\"\"\" Turn grayscale image into a binary one. \"\"\"\n",
        "def binarization( img, method='otsu' ):\n",
        "    methods = {\n",
        "        'otsu': lambda img: filters.threshold_otsu( img ),\n",
        "        'yen': lambda img: filters.threshold_yen( img ),\n",
        "        'adaptive': lambda img: filters.threshold_local(img, block_size=15) }\n",
        "    th = methods[method]( img )\n",
        "    res = img.copy()\n",
        "    res[img > th] = 1.0\n",
        "    res[img <= th] = 0.0\n",
        "    return res"
      ],
      "metadata": {
        "id": "37YiSLcUaGse"
      },
      "execution_count": null,
      "outputs": []
    },
    {
      "cell_type": "markdown",
      "source": [
        "#### Preprocessor"
      ],
      "metadata": {
        "id": "RBaK1PGIatal"
      }
    },
    {
      "cell_type": "code",
      "source": [
        "\"\"\" Original Image + Paramset -> Separated Binarization OR None. \"\"\"\n",
        "def preprocessor( img, paramset, calculate_psnr=False ):\n",
        "\n",
        "    app = img.copy()\n",
        "\n",
        "    # Normalization Stage\n",
        "    app = cut_artifacts(app)\n",
        "    app = tilt_image(app, amp=paramset['TILT_AMP'], bottom=paramset['TILT_BOTTOM'])\n",
        "    if calculate_psnr:\n",
        "        prefilter = app.copy()\n",
        "\n",
        "    # Filtering Stage\n",
        "    for filter_name, filter_function in choose_ensemble(paramset).items():\n",
        "        app = filter_function(app)\n",
        "\n",
        "    if calculate_psnr:\n",
        "        psnr = PSNR( prefilter, app )\n",
        "\n",
        "    # Binarization Stage\n",
        "    app = binarization(app, method='otsu')\n",
        "    app = remove_upper_half(app)\n",
        "\n",
        "    if calculate_psnr:\n",
        "        return app, psnr\n",
        "    else:\n",
        "        return app\n"
      ],
      "metadata": {
        "id": "6B2ySFk0ZNVa"
      },
      "execution_count": null,
      "outputs": []
    }
  ]
}