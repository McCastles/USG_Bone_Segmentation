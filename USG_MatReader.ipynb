{
  "nbformat": 4,
  "nbformat_minor": 0,
  "metadata": {
    "colab": {
      "name": "USG_MatReader.ipynb",
      "provenance": [],
      "collapsed_sections": []
    },
    "kernelspec": {
      "name": "python3",
      "display_name": "Python 3"
    },
    "language_info": {
      "name": "python"
    }
  },
  "cells": [
    {
      "cell_type": "markdown",
      "source": [
        "# USG MatReader Class"
      ],
      "metadata": {
        "id": "3pL0vk1vjCT1"
      }
    },
    {
      "cell_type": "code",
      "source": [
        "class USG_MatReader():\n",
        "\n",
        "    def __init__(self, file_index, offset_dict=None):\n",
        "        self.root = '/content/drive/MyDrive/Projects/Thesis/Data/'\n",
        "        self.file_names = [fn for fn in os.listdir(self.root) if fn.startswith('usData')]\n",
        "        print(self.file_names)\n",
        "\n",
        "        self.chosen_file_name = self.file_names[file_index]\n",
        "\n",
        "        f = h5py.File( self.root+self.chosen_file_name, 'r' )\n",
        "        self.images = np.array( f['usdata']['avi_crop'] )\n",
        "        self.coordinates = np.array( f['usdata']['coordinates'] )[0]\n",
        "        self.depth = f['usdata']['depth']\n",
        "        self.refs = f['#refs#']\n",
        "        self.masked_ids = self.get_masked_ids()\n",
        "        \n",
        "        if offset_dict == None:\n",
        "            self.offset_dict = {}\n",
        "        else:\n",
        "            self.offset_dict = offset_dict\n",
        "\n",
        "    def __len__( self ):\n",
        "        return self.images.shape[0]\n",
        "\n",
        "    def __getitem__(self, i):\n",
        "        return self.images[i].T\n",
        "\n",
        "    # Searches for masked frames\n",
        "    def get_masked_ids( self ):\n",
        "        masked_img_ids = []\n",
        "        for img_id in range(len(self)):\n",
        "            ref = self.coordinates[img_id]\n",
        "            mask = np.array(self.refs[ref])\n",
        "            if mask.ndim == 2:\n",
        "                masked_img_ids.append( img_id )\n",
        "        n = len(masked_img_ids)\n",
        "        print( f'Images with mask: {n}/{len(self)} ({round(100*n/len(self), 2)}%)' )\n",
        "        return masked_img_ids\n",
        "\n",
        "    # Stick a mask to the image\n",
        "    def get_ground_truth( self, img_id:int ) -> np.array:\n",
        "        \n",
        "        img = self.images[img_id]\n",
        "        if not (img_id in self.masked_ids):\n",
        "            print(f'Image {img_id} doesn\\'t have a mask.')\n",
        "            return img\n",
        "\n",
        "        mask = self.get_mask(img_id).T\n",
        "        over = overlap(img, mask)\n",
        "        # over = np.transpose(over, (2, 1, 0))\n",
        "        return over\n",
        "\n",
        "    # Fetch a 2D mask for a particular frame\n",
        "    def get_mask( self, img_id:int ) -> np.array:\n",
        "        \n",
        "        img = self.images[img_id]\n",
        "        canvas2D = np.zeros(img.shape)\n",
        "\n",
        "        if not (img_id in self.masked_ids):\n",
        "            print(f'Image {img_id} doesn\\'t have a mask.')\n",
        "            return canvas2D\n",
        "\n",
        "        ref = self.coordinates[ img_id ]\n",
        "        mask = np.array(self.refs[ ref ])\n",
        "\n",
        "        # Check if the values in the mask exceed\n",
        "        # the image dimensions (it happens)\n",
        "        xmax = np.max( mask[:,0] )\n",
        "        ymax = np.max( mask[:,1] )\n",
        "        x_offset = int(xmax - img.shape[0])\n",
        "        x_offset = 0 if (x_offset < 0) else x_offset+1\n",
        "        y_offset = int(ymax - img.shape[1])\n",
        "        y_offset = 0 if (y_offset < 0) else y_offset+1\n",
        "\n",
        "        offset = self.offset_dict.get( self.chosen_file_name )\n",
        "\n",
        "        for point in mask:\n",
        "            x = int(point[0])-x_offset \n",
        "            y = int(point[1])-y_offset\n",
        "            if offset:\n",
        "                x += offset\n",
        "            if x>=0:\n",
        "                canvas2D[x][y] = 1\n",
        "\n",
        "        return canvas2D.T\n",
        "\n",
        "\n",
        "    \"\"\" Returns a Ground Truth as yx double-vector. \"\"\"\n",
        "    def get_encoded_mask( self, frame_id ):\n",
        "        ref = self.coordinates[ frame_id ]\n",
        "        mask = np.array(self.refs[ ref ])\n",
        "        mask = np.fliplr(mask)\n",
        "        return mask\n"
      ],
      "metadata": {
        "id": "3TxKOAO7jLGt"
      },
      "execution_count": null,
      "outputs": []
    },
    {
      "cell_type": "markdown",
      "source": [
        "# Show Functions"
      ],
      "metadata": {
        "id": "Em18lE-1jYOz"
      }
    },
    {
      "cell_type": "code",
      "source": [
        "def show(  img:np.array,  title:str=\"\",  new:bool=True  ) -> None:\n",
        "    with plt.style.context('dark_background'):\n",
        "        if new:\n",
        "            plt.figure(figsize=(14, 10), dpi=120)\n",
        "        plt.title( title )\n",
        "        if img.ndim == 2:\n",
        "            # img = np.transpose(img, (1, 0))\n",
        "            plt.imshow( img, cmap='gray')\n",
        "        else:\n",
        "            img = np.transpose(img, (1, 0, 2))\n",
        "            plt.imshow( img, cmap='viridis')\n"
      ],
      "metadata": {
        "id": "aarSW6YXjItY"
      },
      "execution_count": null,
      "outputs": []
    },
    {
      "cell_type": "code",
      "source": [
        "def shows(\n",
        "     imgs:       List[np.array],\n",
        "     ncols:      int = 3,\n",
        "     dpi:        int = 80,\n",
        "     titles:     List[str] = None\n",
        "    ) -> None:\n",
        "\n",
        "    with plt.style.context('dark_background'):\n",
        "        IMG_SIZE = 10\n",
        "        N = len(imgs)\n",
        "        if not titles:\n",
        "            titles = [' '] * N\n",
        "\n",
        "        nrows = np.ceil( N / ncols ).astype(int)\n",
        "        figsize_col = IMG_SIZE * ncols\n",
        "        figsize_row = IMG_SIZE * nrows\n",
        "\n",
        "        plt.figure( figsize=(figsize_col//2, figsize_row), dpi=dpi )\n",
        "        for i in range(N):\n",
        "            plt.subplot( nrows, ncols, i+1 )\n",
        "            # img = np.transpose(imgs[i], (0, 2, 1))\n",
        "            show( imgs[i], titles[i], new=False )\n"
      ],
      "metadata": {
        "id": "0jJmjnGkjQgz"
      },
      "execution_count": null,
      "outputs": []
    },
    {
      "cell_type": "code",
      "source": [
        "\"\"\"Place the colored mask over the image.\"\"\"\n",
        "def overlap( img: np.array, mask: np.array, color=None ) -> None:\n",
        "\n",
        "    if color == None:\n",
        "        # color = (0, 0, 255) # monoblue\n",
        "        color = (124, 252, 0) # lawngreen\n",
        "        # color = (48, 213, 200) # turquoise\n",
        "        # color = (255, 0, 0) # mono red\n",
        "    canvas3D = np.zeros( (*img.shape, 3) )\n",
        "    for i in range(3):\n",
        "        layer = np.zeros( img.shape )\n",
        "        layer += img[:,:]\n",
        "        mask_layer = mask[:,:] * (color[i] / 255)\n",
        "        np.copyto( layer, mask_layer, where=(mask_layer != 0) )\n",
        "        canvas3D[:,:,i] = layer\n",
        "    canvas3D = np.transpose(canvas3D, (2, 0, 1))\n",
        "    return canvas3D.T"
      ],
      "metadata": {
        "id": "bbB_-JOTjRii"
      },
      "execution_count": null,
      "outputs": []
    }
  ]
}